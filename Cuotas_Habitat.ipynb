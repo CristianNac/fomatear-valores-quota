{
  "cells": [
    {
      "cell_type": "markdown",
      "metadata": {
        "id": "xpaoHoIktvrH"
      },
      "source": [
        "#**Cuotas AFP Hábitat desde 2002 hasta 2024**"
      ]
    },
    {
      "cell_type": "code",
      "execution_count": 1,
      "metadata": {
        "id": "tZde4dWW8oGc"
      },
      "outputs": [],
      "source": [
        "import pandas as pd"
      ]
    },
    {
      "cell_type": "markdown",
      "metadata": {
        "id": "PNMBTfE4Ghhy"
      },
      "source": [
        "##Valores de cuota para el año 2002"
      ]
    },
    {
      "cell_type": "code",
      "execution_count": 17,
      "metadata": {
        "colab": {
          "base_uri": "https://localhost:8080/"
        },
        "id": "i6PDeDUe8vqP",
        "outputId": "85cd0985-9434-49d4-c8bd-92fcc4bfe80c"
      },
      "outputs": [
        {
          "output_type": "stream",
          "name": "stdout",
          "text": [
            "          Fecha      Cuota\n",
            "1    2002-08-01  10.000,00\n",
            "2    2002-08-02  10.000,00\n",
            "3    2002-08-03  10.000,00\n",
            "4    2002-08-04  10.000,00\n",
            "5    2002-08-05  10.000,00\n",
            "..          ...        ...\n",
            "148  2002-12-26  10.189,40\n",
            "149  2002-12-27  10.208,77\n",
            "150  2002-12-28  10.208,77\n",
            "151  2002-12-29  10.208,77\n",
            "152  2002-12-30  10.210,26\n",
            "\n",
            "[152 rows x 2 columns]\n"
          ]
        }
      ],
      "source": [
        "# Especifica el rango de filas a leer\n",
        "start_row = 4\n",
        "end_row = 157\n",
        "num_rows = end_row - start_row\n",
        "\n",
        "# Lee el archivo CSV desde la línea 3 hasta la línea 157\n",
        "df_2002 = pd.read_csv('vcfA2002-2024.csv', sep = \";\",  decimal = \",\", skiprows=start_row - 1, nrows=num_rows)\n",
        "df_2002 = df_2002.reset_index()      #Fecha está siendo considerada como un índice, por lo que debe volver a convertirse en una columna\n",
        "# print(df_2002.head(5))             #Se corrieron todas las columnas a la derecha, por lo tanto el valor de la cuota de hábitat se encuentra en \"Unnamed: 2\"\n",
        "columnas_a_eliminar = ['Fecha', 'CUPRUM', 'HABITAT', 'Unnamed: 4', 'MAGISTER', 'Unnamed: 6', 'PLANVITAL', 'Unnamed: 8', 'PROVIDA', 'Unnamed: 10', 'SANTA MARIA', 'Unnamed: 12', 'SUMMA BANSANDER']\n",
        "df_2002 = df_2002.drop(columnas_a_eliminar, axis = 1)\n",
        "columnas = ['Fecha', 'Cuota']\n",
        "df_2002.columns = columnas\n",
        "df_2002 = df_2002.drop(0)\n",
        "print(df_2002)"
      ]
    },
    {
      "cell_type": "markdown",
      "metadata": {
        "id": "WANVevuRGlRS"
      },
      "source": [
        "##Valores de cuota para año 2003"
      ]
    },
    {
      "cell_type": "code",
      "execution_count": 21,
      "metadata": {
        "colab": {
          "base_uri": "https://localhost:8080/"
        },
        "id": "E5-LZV-QGrUm",
        "outputId": "7f2859ac-0a2f-41ee-a8ca-ad16acd0811b"
      },
      "outputs": [
        {
          "output_type": "stream",
          "name": "stdout",
          "text": [
            "          Fecha      Cuota\n",
            "1    2003-01-01  10.169,90\n",
            "2    2003-01-02  10.209,25\n",
            "3    2003-01-03  10.213,08\n",
            "4    2003-01-04  10.213,08\n",
            "5    2003-01-05  10.213,08\n",
            "..          ...        ...\n",
            "361  2003-12-27  12.871,10\n",
            "362  2003-12-28  12.871,10\n",
            "363  2003-12-29  12.862,98\n",
            "364  2003-12-30  12.978,73\n",
            "365  2003-12-31  13.008,63\n",
            "\n",
            "[365 rows x 2 columns]\n"
          ]
        }
      ],
      "source": [
        "\n",
        "start_row = 162\n",
        "end_row = 528\n",
        "num_rows = end_row - start_row\n",
        "\n",
        "df_2003 = pd.read_csv('vcfA2002-2024.csv', sep = \";\",  decimal = \",\", skiprows=start_row - 1, nrows=num_rows)\n",
        "df_2003 = df_2003.reset_index()      #Fecha está siendo considerada como un índice, por lo que debe volver a convertirse en una columna\n",
        "# print(df_2003.head(5))             #Se corrieron todas las columnas a la derecha, por lo tanto el valor de la cuota de hábitat se encuentra en \"Unnamed: 2\"\n",
        "columnas_a_eliminar = ['Fecha', 'CUPRUM', 'HABITAT', 'Unnamed: 4', 'MAGISTER', 'Unnamed: 6', 'PLANVITAL', 'Unnamed: 8', 'PROVIDA', 'Unnamed: 10', 'SANTA MARIA', 'Unnamed: 12', 'SUMMA BANSANDER']\n",
        "df_2003 = df_2003.drop(columnas_a_eliminar, axis = 1)\n",
        "columnas = ['Fecha', 'Cuota']\n",
        "df_2003.columns = columnas\n",
        "df_2003 = df_2003.drop(0)\n",
        "print(df_2003)"
      ]
    },
    {
      "cell_type": "markdown",
      "metadata": {
        "id": "64JveGJ5ITuR"
      },
      "source": [
        "##Valores de cuota para año 2004"
      ]
    },
    {
      "cell_type": "code",
      "execution_count": 37,
      "metadata": {
        "colab": {
          "base_uri": "https://localhost:8080/"
        },
        "id": "G-Da4LMEIWsE",
        "outputId": "4d70da2e-5a31-4263-a561-88398632895e"
      },
      "outputs": [
        {
          "output_type": "stream",
          "name": "stdout",
          "text": [
            "         Fecha      Cuota\n",
            "1   2004-01-01  13.008,63\n",
            "2   2004-01-02  12.995,38\n",
            "3   2004-01-03  12.995,38\n",
            "4   2004-01-04  12.995,38\n",
            "5   2004-01-05  12.986,33\n",
            "6   2004-01-06  13.014,69\n",
            "7   2004-01-07  13.008,25\n",
            "8   2004-01-08  13.101,90\n",
            "9   2004-01-09  13.103,95\n",
            "10  2004-01-10  13.103,95\n",
            "11  2004-01-11  13.103,95\n",
            "12  2004-01-12  13.085,55\n",
            "13  2004-01-13  13.142,99\n",
            "14  2004-01-14  13.203,15\n",
            "15  2004-01-15  13.246,19\n",
            "16  2004-01-16  13.157,77\n",
            "17  2004-01-17  13.157,77\n",
            "18  2004-01-18  13.157,77\n",
            "19  2004-01-19  13.214,14\n",
            "20  2004-01-20  13.112,17\n",
            "21  2004-01-21  13.129,11\n",
            "22  2004-01-22  13.162,43\n",
            "23  2004-01-23  13.226,24\n",
            "24  2004-01-24  13.226,24\n",
            "25  2004-01-25  13.226,24\n",
            "26  2004-01-26  13.302,07\n",
            "27  2004-01-27  13.300,53\n",
            "28  2004-01-28  13.271,47\n",
            "29  2004-01-29  13.351,78\n",
            "30  2004-01-30  13.320,86\n",
            "31  2004-01-31  13.320,86\n",
            "32  2004-02-01  13.320,86\n",
            "33  2004-02-02  13.112,71\n",
            "34  2004-02-03  12.958,95\n",
            "35  2004-02-04  13.122,78\n",
            "36  2004-02-05  13.163,22\n",
            "37  2004-02-06  13.160,82\n",
            "38  2004-02-07  13.160,82\n",
            "39  2004-02-08  13.160,82\n",
            "40  2004-02-09  13.188,55\n",
            "41  2004-02-10  13.106,53\n",
            "42  2004-02-11  13.204,66\n",
            "43  2004-02-12  13.265,40\n",
            "44  2004-02-13  13.256,90\n",
            "45  2004-02-14  13.256,90\n",
            "46  2004-02-15  13.256,90\n",
            "47  2004-02-16  13.301,96\n",
            "48  2004-02-17  13.376,80\n",
            "49  2004-02-18  13.321,30\n",
            "50  2004-02-19  13.459,46\n",
            "51  2004-02-20  13.616,33\n",
            "52  2004-02-21  13.616,33\n",
            "53  2004-02-22  13.616,33\n",
            "54  2004-02-23  13.523,78\n",
            "55  2004-02-24  13.505,57\n",
            "56  2004-02-25  13.560,07\n",
            "57  2004-02-26  13.433,05\n",
            "58  2004-02-27  13.540,61\n",
            "59  2004-02-28  13.540,61\n",
            "60  2004-02-29  13.540,61\n",
            "          Fecha      Cuota\n",
            "1    2004-01-01  13.008,63\n",
            "2    2004-01-02  12.995,38\n",
            "3    2004-01-03  12.995,38\n",
            "4    2004-01-04  12.995,38\n",
            "5    2004-01-05  12.986,33\n",
            "..          ...        ...\n",
            "302  2004-12-27  14.950,43\n",
            "303  2004-12-28  14.992,84\n",
            "304  2004-12-29  14.963,16\n",
            "305  2004-12-30  15.020,39\n",
            "306  2004-12-31  15.027,96\n",
            "\n",
            "[366 rows x 2 columns]\n"
          ]
        }
      ],
      "source": [
        "#Primera parte año 2004\n",
        "\n",
        "start_row = 532\n",
        "end_row = 593\n",
        "num_rows = end_row - start_row\n",
        "\n",
        "df_2004_1 = pd.read_csv('vcfA2002-2024.csv', sep = \";\",  decimal = \",\", skiprows=start_row - 1, nrows=num_rows)\n",
        "df_2004_1 = df_2004_1.reset_index()      #Fecha está siendo considerada como un índice, por lo que debe volver a convertirse en una columna\n",
        "# print(df_2004_1.head(5))             #Se corrieron todas las columnas a la derecha, por lo tanto el valor de la cuota de hábitat se encuentra en \"Unnamed: 2\"\n",
        "columnas_a_eliminar = ['Fecha', 'CUPRUM', 'HABITAT', 'Unnamed: 4', 'MAGISTER', 'Unnamed: 6', 'PLANVITAL', 'Unnamed: 8', 'PROVIDA', 'Unnamed: 10', 'SANTA MARIA', 'Unnamed: 12', 'SUMMA BANSANDER']\n",
        "df_2004_1 = df_2004_1.drop(columnas_a_eliminar, axis = 1)\n",
        "columnas = ['Fecha', 'Cuota']\n",
        "df_2004_1.columns = columnas\n",
        "df_2004_1 = df_2004_1.drop(0)\n",
        "print(df_2004_1)\n",
        "\n",
        "#Segunda Parte año 2004\n",
        "\n",
        "start_row = 597\n",
        "end_row = 904\n",
        "num_rows = end_row - start_row\n",
        "\n",
        "df_2004_2 = pd.read_csv('vcfA2002-2024.csv', sep = \";\",  decimal = \",\", skiprows=start_row - 1, nrows=num_rows)\n",
        "df_2004_2 = df_2004_2.reset_index()      #Fecha está siendo considerada como un índice, por lo que debe volver a convertirse en una columna\n",
        "# print(df_2004_2.columns)             #Se corrieron todas las columnas a la derecha, por lo tanto el valor de la cuota de hábitat se encuentra en \"Unnamed: 2\"\n",
        "columnas_a_eliminar = ['Fecha', 'CUPRUM', 'HABITAT', 'Unnamed: 4','Unnamed: 6', 'PLANVITAL', 'Unnamed: 8', 'PROVIDA', 'Unnamed: 10', 'SANTA MARIA','SUMMA BANSANDER']\n",
        "df_2004_2 = df_2004_2.drop(columnas_a_eliminar, axis = 1)\n",
        "columnas = ['Fecha', 'Cuota']\n",
        "df_2004_2.columns = columnas\n",
        "df_2004_2 = df_2004_2.drop(0)\n",
        "# print(df_2004_2)\n",
        "\n",
        "df_2004 = pd.concat([df_2004_1, df_2004_2], axis = 0)\n",
        "print(df_2004)\n"
      ]
    },
    {
      "cell_type": "markdown",
      "metadata": {
        "id": "0BZgdv18w5bG"
      },
      "source": [
        "##Valores de cuotas para el año 2005"
      ]
    },
    {
      "cell_type": "code",
      "execution_count": null,
      "metadata": {
        "colab": {
          "base_uri": "https://localhost:8080/"
        },
        "id": "XLiOSS8UxewQ",
        "outputId": "09a2ff52-1277-4958-ea26-dca4e22eb020"
      },
      "outputs": [
        {
          "name": "stdout",
          "output_type": "stream",
          "text": [
            "          Fecha      Cuota\n",
            "1    01-01-2005  15.027,96\n",
            "2    02-01-2005  15.027,96\n",
            "3    03-01-2005  15.039,82\n",
            "4    04-01-2005  15.103,64\n",
            "5    05-01-2005  15.097,95\n",
            "..          ...        ...\n",
            "302  27-12-2005  17.174,22\n",
            "303  28-12-2005  17.177,61\n",
            "304  29-12-2005  17.157,66\n",
            "305  30-12-2005  17.154,79\n",
            "306  31-12-2005  17.154,79\n",
            "\n",
            "[365 rows x 2 columns]\n"
          ]
        }
      ],
      "source": [
        "#Parte 1 año 2005\n",
        "\n",
        "start_row = 907\n",
        "end_row = 967\n",
        "num_rows = end_row - start_row\n",
        "\n",
        "df_2005_1 = pd.read_csv('vcfA2002-2024.csv', sep = \";\",  decimal = \",\", skiprows=start_row - 1, nrows=num_rows)\n",
        "columnas_a_eliminar = ['CUPRUM', 'Unnamed: 2','Unnamed: 13','Unnamed: 6', 'PLANVITAL', 'Unnamed: 8', 'PROVIDA', 'Unnamed: 10', 'SANTA MARIA', 'Unnamed: 12', 'SUMMA BANSANDER', 'Unnamed: 14', 'Unnamed: 4']\n",
        "df_2005_1 = df_2005_1.drop(columnas_a_eliminar, axis = 1)\n",
        "columnas = ['Fecha', 'Cuota']\n",
        "df_2005_1.columns = columnas\n",
        "df_2005_1 = df_2005_1.drop(0)\n",
        "\n",
        "#Parte 2 año 2005\n",
        "\n",
        "start_row = 971\n",
        "end_row = 1278\n",
        "num_rows = end_row - start_row\n",
        "\n",
        "df_2005_2 = pd.read_csv('vcfA2002-2024.csv', sep = \";\",  decimal = \",\", skiprows=start_row - 1, nrows=num_rows)\n",
        "columnas_a_eliminar = ['BANSANDER', 'Unnamed: 2','CUPRUM', 'Unnamed: 4', 'Unnamed: 6', 'PLANVITAL', 'Unnamed: 8', 'PROVIDA', 'Unnamed: 10', 'SANTA MARIA', 'Unnamed: 12', 'Unnamed: 13', 'Unnamed: 14']\n",
        "df_2005_2 = df_2005_2.drop(columnas_a_eliminar, axis = 1)\n",
        "columnas = ['Fecha', 'Cuota']\n",
        "df_2005_2.columns = columnas\n",
        "df_2005_2 = df_2005_2.drop(0)\n",
        "\n",
        "df_2005 = pd.concat([df_2005_1, df_2005_2], axis = 0)\n",
        "print(df_2005)\n",
        "\n"
      ]
    },
    {
      "cell_type": "markdown",
      "metadata": {
        "id": "8gbj11ft0BlI"
      },
      "source": [
        "##Valores de cuotas para el año 2006"
      ]
    },
    {
      "cell_type": "code",
      "execution_count": null,
      "metadata": {
        "colab": {
          "base_uri": "https://localhost:8080/"
        },
        "id": "lMF-Gkn60E4Y",
        "outputId": "d181bba8-4d5f-4e20-cafe-4bb37ea09603"
      },
      "outputs": [
        {
          "name": "stdout",
          "output_type": "stream",
          "text": [
            "          Fecha      Cuota\n",
            "1    01-01-2006  17.154,79\n",
            "2    02-01-2006  17.210,29\n",
            "3    03-01-2006  17.210,78\n",
            "4    04-01-2006  17.262,93\n",
            "5    05-01-2006  17.459,31\n",
            "..          ...        ...\n",
            "361  27-12-2006  21.200,29\n",
            "362  28-12-2006  21.252,07\n",
            "363  29-12-2006  21.366,32\n",
            "364  30-12-2006  21.366,32\n",
            "365  31-12-2006  21.366,32\n",
            "\n",
            "[365 rows x 2 columns]\n"
          ]
        }
      ],
      "source": [
        "start_row = 1282\n",
        "end_row = 1648\n",
        "num_rows = end_row - start_row\n",
        "\n",
        "df_2006 = pd.read_csv('vcfA2002-2024.csv', sep = \";\",  decimal = \",\", skiprows=start_row - 1, nrows=num_rows)\n",
        "columnas_a_eliminar = ['BANSANDER', 'Unnamed: 2','CUPRUM', 'Unnamed: 4', 'Unnamed: 6', 'PLANVITAL', 'Unnamed: 8', 'PROVIDA', 'Unnamed: 10', 'SANTA MARIA', 'Unnamed: 12', 'Unnamed: 13', 'Unnamed: 14']\n",
        "df_2006 = df_2006.drop(columnas_a_eliminar, axis = 1)\n",
        "columnas = ['Fecha', 'Cuota']\n",
        "df_2006.columns = columnas\n",
        "df_2006 = df_2006.drop(0)\n",
        "print(df_2006)"
      ]
    },
    {
      "cell_type": "markdown",
      "metadata": {
        "id": "yid_lu8F0YLM"
      },
      "source": [
        "##Valores de cuotas para el año 2007"
      ]
    },
    {
      "cell_type": "code",
      "execution_count": null,
      "metadata": {
        "colab": {
          "base_uri": "https://localhost:8080/"
        },
        "id": "Vx2T-PlT0azW",
        "outputId": "8e6a17ac-72e4-4041-843c-38a52430f81f"
      },
      "outputs": [
        {
          "name": "stdout",
          "output_type": "stream",
          "text": [
            "          Fecha      Cuota\n",
            "1    01-01-2007  21.366,32\n",
            "2    02-01-2007  21.403,23\n",
            "3    03-01-2007  21.477,93\n",
            "4    04-01-2007  21.559,69\n",
            "5    05-01-2007  21.592,21\n",
            "..          ...        ...\n",
            "361  27-12-2007  25.046,81\n",
            "362  28-12-2007  25.203,60\n",
            "363  29-12-2007  25.203,60\n",
            "364  30-12-2007  25.203,60\n",
            "365  31-12-2007  25.210,86\n",
            "\n",
            "[365 rows x 2 columns]\n"
          ]
        }
      ],
      "source": [
        "start_row = 1652\n",
        "end_row = 2018\n",
        "num_rows = end_row - start_row\n",
        "\n",
        "df_2007 = pd.read_csv('vcfA2002-2024.csv', sep = \";\",  decimal = \",\", skiprows=start_row - 1, nrows=num_rows)\n",
        "columnas_a_eliminar = ['BANSANDER', 'Unnamed: 2','CUPRUM', 'Unnamed: 4', 'Unnamed: 6', 'PLANVITAL', 'Unnamed: 8', 'PROVIDA', 'Unnamed: 10', 'SANTA MARIA', 'Unnamed: 12', 'Unnamed: 13', 'Unnamed: 14']\n",
        "df_2007 = df_2007.drop(columnas_a_eliminar, axis = 1)\n",
        "columnas = ['Fecha', 'Cuota']\n",
        "df_2007.columns = columnas\n",
        "df_2007 = df_2007.drop(0)\n",
        "print(df_2007)"
      ]
    },
    {
      "cell_type": "markdown",
      "metadata": {
        "id": "auNo0FHa04iN"
      },
      "source": [
        "##Valores de cuotas para el año 2008"
      ]
    },
    {
      "cell_type": "code",
      "execution_count": null,
      "metadata": {
        "colab": {
          "base_uri": "https://localhost:8080/"
        },
        "id": "I-yn8P5Y07Lt",
        "outputId": "fb457949-178a-4a58-caa7-d53cb8791c41"
      },
      "outputs": [
        {
          "name": "stdout",
          "output_type": "stream",
          "text": [
            "          Fecha      Cuota\n",
            "1    01-01-2008  25.210,86\n",
            "2    02-01-2008  25.241,78\n",
            "3    03-01-2008  25.211,47\n",
            "4    04-01-2008  25.004,55\n",
            "5    05-01-2008  25.004,55\n",
            "..          ...        ...\n",
            "271  27-12-2008  16.329,09\n",
            "272  28-12-2008  16.329,09\n",
            "273  29-12-2008  16.374,77\n",
            "274  30-12-2008  16.440,64\n",
            "275  31-12-2008  16.562,12\n",
            "\n",
            "[366 rows x 2 columns]\n"
          ]
        }
      ],
      "source": [
        "#Parte 1 año 2008\n",
        "\n",
        "start_row = 2022\n",
        "end_row = 2114\n",
        "num_rows = end_row - start_row\n",
        "\n",
        "df_2008_1 = pd.read_csv('vcfA2002-2024.csv', sep = \";\",  decimal = \",\", skiprows=start_row - 1, nrows=num_rows)\n",
        "columnas_a_eliminar = ['BANSANDER', 'Unnamed: 2','CUPRUM', 'Unnamed: 4', 'Unnamed: 6', 'PLANVITAL', 'Unnamed: 8', 'PROVIDA', 'Unnamed: 10', 'SANTA MARIA', 'Unnamed: 12', 'Unnamed: 13', 'Unnamed: 14']\n",
        "df_2008_1 = df_2008_1.drop(columnas_a_eliminar, axis = 1)\n",
        "columnas = ['Fecha', 'Cuota']\n",
        "df_2008_1.columns = columnas\n",
        "df_2008_1 = df_2008_1.drop(0)\n",
        "\n",
        "#Parte 2 del año 2008\n",
        "\n",
        "start_row = 2118\n",
        "end_row = 2394\n",
        "num_rows = end_row - start_row\n",
        "\n",
        "df_2008_2 = pd.read_csv('vcfA2002-2024.csv', sep = \";\",  decimal = \",\", skiprows=start_row - 1, nrows=num_rows)\n",
        "columnas_a_eliminar = ['CAPITAL', 'Unnamed: 2','CUPRUM', 'Unnamed: 4', 'Unnamed: 6', 'PLANVITAL', 'Unnamed: 8', 'PROVIDA', 'Unnamed: 10', 'Unnamed: 11', 'Unnamed: 12', 'Unnamed: 13', 'Unnamed: 14']\n",
        "df_2008_2 = df_2008_2.drop(columnas_a_eliminar, axis = 1)\n",
        "columnas = ['Fecha', 'Cuota']\n",
        "df_2008_2.columns = columnas\n",
        "df_2008_2 = df_2008_2.drop(0)\n",
        "\n",
        "df_2008 = pd.concat([df_2008_1, df_2008_2], axis = 0)\n",
        "print(df_2008)\n",
        "\n"
      ]
    },
    {
      "cell_type": "markdown",
      "metadata": {
        "id": "70nLBfFrSCfm"
      },
      "source": [
        "##Valores de cuotas para el año 2009"
      ]
    },
    {
      "cell_type": "code",
      "execution_count": null,
      "metadata": {
        "colab": {
          "base_uri": "https://localhost:8080/"
        },
        "id": "CDCCHpVCSFw_",
        "outputId": "e42136df-96b4-4e57-9a03-de1cd811fd52"
      },
      "outputs": [
        {
          "name": "stdout",
          "output_type": "stream",
          "text": [
            "          Fecha      Cuota\n",
            "1    01-01-2009  16.562,12\n",
            "2    02-01-2009  16.659,75\n",
            "3    03-01-2009  16.659,75\n",
            "4    04-01-2009  16.659,75\n",
            "5    05-01-2009  16.880,77\n",
            "..          ...        ...\n",
            "361  27-12-2009  23.200,73\n",
            "362  28-12-2009  23.252,64\n",
            "363  29-12-2009  23.368,67\n",
            "364  30-12-2009  23.426,72\n",
            "365  31-12-2009  23.467,49\n",
            "\n",
            "[365 rows x 2 columns]\n"
          ]
        }
      ],
      "source": [
        "start_row = 2398\n",
        "end_row = 2764\n",
        "num_rows = end_row - start_row\n",
        "\n",
        "df_2009 = pd.read_csv('vcfA2002-2024.csv', sep = \";\",  decimal = \",\", skiprows=start_row - 1, nrows=num_rows)\n",
        "columnas_a_eliminar = ['CAPITAL', 'Unnamed: 2','CUPRUM', 'Unnamed: 4', 'Unnamed: 6', 'PLANVITAL', 'Unnamed: 8', 'PROVIDA', 'Unnamed: 10', 'Unnamed: 11', 'Unnamed: 12', 'Unnamed: 13', 'Unnamed: 14']\n",
        "df_2009 = df_2009.drop(columnas_a_eliminar, axis = 1)\n",
        "columnas = ['Fecha', 'Cuota']\n",
        "df_2009.columns = columnas\n",
        "df_2009 = df_2009.drop(0)\n",
        "print(df_2009)\n"
      ]
    },
    {
      "cell_type": "markdown",
      "metadata": {
        "id": "sgRlYFJ5Srd6"
      },
      "source": [
        "##Valores de cuotas para el año 2010"
      ]
    },
    {
      "cell_type": "code",
      "execution_count": null,
      "metadata": {
        "colab": {
          "base_uri": "https://localhost:8080/"
        },
        "id": "9Ox32_q5SuC0",
        "outputId": "0c206670-753c-42f0-b190-007b0946e168"
      },
      "outputs": [
        {
          "name": "stdout",
          "output_type": "stream",
          "text": [
            "          Fecha      Cuota\n",
            "1    01-01-2010  23.467,49\n",
            "2    02-01-2010  23.467,49\n",
            "3    03-01-2010  23.467,49\n",
            "4    04-01-2010  23.495,44\n",
            "5    05-01-2010  23.790,69\n",
            "..          ...        ...\n",
            "118  27-12-2010  26.815,11\n",
            "119  28-12-2010  26.818,31\n",
            "120  29-12-2010  26.751,39\n",
            "121  30-12-2010  26.900,75\n",
            "122  31-12-2010  27.023,61\n",
            "\n",
            "[365 rows x 2 columns]\n"
          ]
        }
      ],
      "source": [
        "#Parte 1 año 2010\n",
        "\n",
        "start_row = 2768\n",
        "end_row = 3012\n",
        "num_rows = end_row - start_row\n",
        "\n",
        "df_2010_1 = pd.read_csv('vcfA2002-2024.csv', sep = \";\",  decimal = \",\", skiprows=start_row - 1, nrows=num_rows)\n",
        "columnas_a_eliminar = ['CAPITAL', 'Unnamed: 2','CUPRUM', 'Unnamed: 4', 'Unnamed: 6', 'PLANVITAL', 'Unnamed: 8', 'PROVIDA', 'Unnamed: 10', 'Unnamed: 11', 'Unnamed: 12', 'Unnamed: 13', 'Unnamed: 14']\n",
        "df_2010_1 = df_2010_1.drop(columnas_a_eliminar, axis = 1)\n",
        "columnas = ['Fecha', 'Cuota']\n",
        "df_2010_1.columns = columnas\n",
        "df_2010_1 = df_2010_1.drop(0)\n",
        "\n",
        "#Parte 2 año 2010\n",
        "\n",
        "start_row = 3016\n",
        "end_row = 3139\n",
        "num_rows = end_row - start_row\n",
        "\n",
        "df_2010_2 = pd.read_csv('vcfA2002-2024.csv', sep = \";\",  decimal = \",\", skiprows=start_row - 1, nrows=num_rows)\n",
        "columnas_a_eliminar = ['CAPITAL', 'Unnamed: 2','CUPRUM', 'Unnamed: 4', 'Unnamed: 6','MODELO', 'PLANVITAL', 'Unnamed: 8', 'PROVIDA', 'Unnamed: 10','Unnamed: 12', 'Unnamed: 13', 'Unnamed: 14']\n",
        "df_2010_2 = df_2010_2.drop(columnas_a_eliminar, axis = 1)\n",
        "columnas = ['Fecha', 'Cuota']\n",
        "df_2010_2.columns = columnas\n",
        "df_2010_2 = df_2010_2.drop(0)\n",
        "\n",
        "df_2010 = pd.concat([df_2010_1, df_2010_2], axis = 0)\n",
        "print(df_2010)\n",
        "\n",
        "\n"
      ]
    },
    {
      "cell_type": "markdown",
      "metadata": {
        "id": "Gu9FYwqdUQcs"
      },
      "source": [
        "##Valores de cuotas para el año 2011"
      ]
    },
    {
      "cell_type": "code",
      "execution_count": null,
      "metadata": {
        "colab": {
          "base_uri": "https://localhost:8080/"
        },
        "id": "WQjGeX72UcIe",
        "outputId": "b1d051ef-1c1c-411c-b548-d3771c3b4cab"
      },
      "outputs": [
        {
          "name": "stdout",
          "output_type": "stream",
          "text": [
            "          Fecha      Cuota\n",
            "1    01-01-2011  27.023,61\n",
            "2    02-01-2011  27.023,61\n",
            "3    03-01-2011  27.059,61\n",
            "4    04-01-2011  27.205,54\n",
            "5    05-01-2011  27.846,48\n",
            "..          ...        ...\n",
            "361  27-12-2011  25.210,18\n",
            "362  28-12-2011  25.206,91\n",
            "363  29-12-2011  24.992,22\n",
            "364  30-12-2011  25.085,71\n",
            "365  31-12-2011  25.085,71\n",
            "\n",
            "[365 rows x 2 columns]\n"
          ]
        }
      ],
      "source": [
        "start_row = 3143\n",
        "end_row = 3509\n",
        "num_rows = end_row - start_row\n",
        "\n",
        "df_2011 = pd.read_csv('vcfA2002-2024.csv', sep = \";\",  decimal = \",\", skiprows=start_row - 1, nrows=num_rows)\n",
        "columnas_a_eliminar = ['CAPITAL', 'Unnamed: 2','CUPRUM', 'Unnamed: 4', 'Unnamed: 6','MODELO', 'PLANVITAL', 'Unnamed: 8', 'PROVIDA', 'Unnamed: 10','Unnamed: 12', 'Unnamed: 13', 'Unnamed: 14']\n",
        "df_2011 = df_2011.drop(columnas_a_eliminar, axis = 1)\n",
        "columnas = ['Fecha', 'Cuota']\n",
        "df_2011.columns = columnas\n",
        "df_2011 = df_2011.drop(0)\n",
        "print(df_2011)"
      ]
    },
    {
      "cell_type": "markdown",
      "metadata": {
        "id": "3D2uuMLdU1iU"
      },
      "source": [
        "##Valores de cuotas para el año 2012"
      ]
    },
    {
      "cell_type": "code",
      "execution_count": null,
      "metadata": {
        "colab": {
          "base_uri": "https://localhost:8080/"
        },
        "id": "m1bjLWqQU5ZQ",
        "outputId": "520a14b3-95cd-4336-ae60-3188a9d29b86"
      },
      "outputs": [
        {
          "name": "stdout",
          "output_type": "stream",
          "text": [
            "          Fecha      Cuota\n",
            "1    01-01-2012  25.085,71\n",
            "2    02-01-2012  25.067,89\n",
            "3    03-01-2012  25.068,09\n",
            "4    04-01-2012  25.289,68\n",
            "5    05-01-2012  25.295,10\n",
            "..          ...        ...\n",
            "362  27-12-2012  27.248,95\n",
            "363  28-12-2012  27.314,70\n",
            "364  29-12-2012  27.314,70\n",
            "365  30-12-2012  27.314,70\n",
            "366  31-12-2012  27.282,45\n",
            "\n",
            "[366 rows x 2 columns]\n"
          ]
        }
      ],
      "source": [
        "start_row = 3513\n",
        "end_row = 3880\n",
        "num_rows = end_row - start_row\n",
        "\n",
        "df_2012 = pd.read_csv('vcfA2002-2024.csv', sep = \";\",  decimal = \",\", skiprows=start_row - 1, nrows=num_rows)\n",
        "columnas_a_eliminar = ['CAPITAL', 'Unnamed: 2','CUPRUM', 'Unnamed: 4', 'Unnamed: 6','MODELO', 'PLANVITAL', 'Unnamed: 8', 'PROVIDA', 'Unnamed: 10','Unnamed: 12', 'Unnamed: 13', 'Unnamed: 14']\n",
        "df_2012 = df_2012.drop(columnas_a_eliminar, axis = 1)\n",
        "columnas = ['Fecha', 'Cuota']\n",
        "df_2012.columns = columnas\n",
        "df_2012 = df_2012.drop(0)\n",
        "print(df_2012)"
      ]
    },
    {
      "cell_type": "markdown",
      "metadata": {
        "id": "0FHhqMepVN9u"
      },
      "source": [
        "##Valores de cuotas para el año 2013"
      ]
    },
    {
      "cell_type": "code",
      "execution_count": null,
      "metadata": {
        "colab": {
          "base_uri": "https://localhost:8080/"
        },
        "id": "FSz7_bpzVSQa",
        "outputId": "d6be0fbc-07db-4170-a8bb-4025ecd1b21f"
      },
      "outputs": [
        {
          "name": "stdout",
          "output_type": "stream",
          "text": [
            "          Fecha      Cuota\n",
            "1    01-01-2013  27.282,45\n",
            "2    02-01-2013  27.469,80\n",
            "3    03-01-2013  27.699,09\n",
            "4    04-01-2013  27.717,09\n",
            "5    05-01-2013  27.717,09\n",
            "..          ...        ...\n",
            "361  27-12-2013  29.699,99\n",
            "362  28-12-2013  29.699,99\n",
            "363  29-12-2013  29.699,99\n",
            "364  30-12-2013  29.730,10\n",
            "365  31-12-2013  29.798,30\n",
            "\n",
            "[365 rows x 2 columns]\n"
          ]
        }
      ],
      "source": [
        "start_row = 3884\n",
        "end_row = 4250\n",
        "num_rows = end_row - start_row\n",
        "\n",
        "df_2013 = pd.read_csv('vcfA2002-2024.csv', sep = \";\",  decimal = \",\", skiprows=start_row - 1, nrows=num_rows)\n",
        "columnas_a_eliminar = ['CAPITAL', 'Unnamed: 2','CUPRUM', 'Unnamed: 4', 'Unnamed: 6','MODELO', 'PLANVITAL', 'Unnamed: 8', 'PROVIDA', 'Unnamed: 10','Unnamed: 12', 'Unnamed: 13', 'Unnamed: 14']\n",
        "df_2013 = df_2013.drop(columnas_a_eliminar, axis = 1)\n",
        "columnas = ['Fecha', 'Cuota']\n",
        "df_2013.columns = columnas\n",
        "df_2013 = df_2013.drop(0)\n",
        "print(df_2013)"
      ]
    },
    {
      "cell_type": "markdown",
      "metadata": {
        "id": "aTHoQUzjVlx2"
      },
      "source": [
        "##Valores de cuotas para el año 2014"
      ]
    },
    {
      "cell_type": "code",
      "execution_count": null,
      "metadata": {
        "colab": {
          "base_uri": "https://localhost:8080/"
        },
        "id": "M2rBGrdSVnd8",
        "outputId": "443fc9e7-2944-4811-84d6-68fdc777d7aa"
      },
      "outputs": [
        {
          "name": "stdout",
          "output_type": "stream",
          "text": [
            "          Fecha      Cuota\n",
            "1    01-01-2014  29.798,30\n",
            "2    02-01-2014  29.898,70\n",
            "3    03-01-2014  29.873,73\n",
            "4    04-01-2014  29.873,73\n",
            "5    05-01-2014  29.873,73\n",
            "..          ...        ...\n",
            "361  27-12-2014  34.227,99\n",
            "362  28-12-2014  34.227,99\n",
            "363  29-12-2014  34.249,36\n",
            "364  30-12-2014  34.324,07\n",
            "365  31-12-2014  34.256,69\n",
            "\n",
            "[365 rows x 2 columns]\n"
          ]
        }
      ],
      "source": [
        "start_row = 4254\n",
        "end_row = 4620\n",
        "num_rows = end_row - start_row\n",
        "\n",
        "df_2014 = pd.read_csv('vcfA2002-2024.csv', sep = \";\",  decimal = \",\", skiprows=start_row - 1, nrows=num_rows)\n",
        "columnas_a_eliminar = ['CAPITAL', 'Unnamed: 2','CUPRUM', 'Unnamed: 4', 'Unnamed: 6','MODELO', 'PLANVITAL', 'Unnamed: 8', 'PROVIDA', 'Unnamed: 10','Unnamed: 12', 'Unnamed: 13', 'Unnamed: 14']\n",
        "df_2014 = df_2014.drop(columnas_a_eliminar, axis = 1)\n",
        "columnas = ['Fecha', 'Cuota']\n",
        "df_2014.columns = columnas\n",
        "df_2014 = df_2014.drop(0)\n",
        "print(df_2014)"
      ]
    },
    {
      "cell_type": "markdown",
      "metadata": {
        "id": "jLQZyZeVV6-D"
      },
      "source": [
        "##Valores de cuotas para el año 2015"
      ]
    },
    {
      "cell_type": "code",
      "execution_count": null,
      "metadata": {
        "colab": {
          "base_uri": "https://localhost:8080/"
        },
        "id": "DbevB4vBV86k",
        "outputId": "8f80a3dc-e88a-462c-aa6d-0a67278a5525"
      },
      "outputs": [
        {
          "name": "stdout",
          "output_type": "stream",
          "text": [
            "          Fecha      Cuota\n",
            "1    01-01-2015  34.256,69\n",
            "2    02-01-2015  34.206,70\n",
            "3    03-01-2015  34.206,70\n",
            "4    04-01-2015  34.206,70\n",
            "5    05-01-2015  34.410,87\n",
            "..          ...        ...\n",
            "361  27-12-2015  36.652,17\n",
            "362  28-12-2015  36.815,73\n",
            "363  29-12-2015  36.908,96\n",
            "364  30-12-2015  37.179,18\n",
            "365  31-12-2015  37.091,74\n",
            "\n",
            "[365 rows x 2 columns]\n"
          ]
        }
      ],
      "source": [
        "start_row = 4624\n",
        "end_row = 4990\n",
        "num_rows = end_row - start_row\n",
        "\n",
        "df_2015 = pd.read_csv('vcfA2002-2024.csv', sep = \";\",  decimal = \",\", skiprows=start_row - 1, nrows=num_rows)\n",
        "columnas_a_eliminar = ['CAPITAL', 'Unnamed: 2','CUPRUM', 'Unnamed: 4', 'Unnamed: 6','MODELO', 'PLANVITAL', 'Unnamed: 8', 'PROVIDA', 'Unnamed: 10','Unnamed: 12', 'Unnamed: 13', 'Unnamed: 14']\n",
        "df_2015 = df_2015.drop(columnas_a_eliminar, axis = 1)\n",
        "columnas = ['Fecha', 'Cuota']\n",
        "df_2015.columns = columnas\n",
        "df_2015 = df_2015.drop(0)\n",
        "print(df_2015)"
      ]
    },
    {
      "cell_type": "markdown",
      "metadata": {
        "id": "TmO7CWkSWO0Q"
      },
      "source": [
        "##Valores de cuota para el año 2016"
      ]
    },
    {
      "cell_type": "code",
      "execution_count": null,
      "metadata": {
        "colab": {
          "base_uri": "https://localhost:8080/"
        },
        "id": "aFWbBc6FWV5X",
        "outputId": "cf6da863-1e92-4460-c360-68f615ca6a26"
      },
      "outputs": [
        {
          "name": "stdout",
          "output_type": "stream",
          "text": [
            "          Fecha      Cuota\n",
            "1    01-01-2016  37.091,74\n",
            "2    02-01-2016  37.091,74\n",
            "3    03-01-2016  37.091,74\n",
            "4    04-01-2016  37.088,98\n",
            "5    05-01-2016  36.766,69\n",
            "..          ...        ...\n",
            "362  27-12-2016  38.044,65\n",
            "363  28-12-2016  38.131,58\n",
            "364  29-12-2016  38.149,02\n",
            "365  30-12-2016  38.043,31\n",
            "366  31-12-2016  38.043,31\n",
            "\n",
            "[366 rows x 2 columns]\n"
          ]
        }
      ],
      "source": [
        "#Hay un día extra porque es año bisiesto\n",
        "\n",
        "start_row = 4994\n",
        "end_row = 5361\n",
        "num_rows = end_row - start_row\n",
        "\n",
        "df_2016 = pd.read_csv('vcfA2002-2024.csv', sep = \";\",  decimal = \",\", skiprows=start_row - 1, nrows=num_rows)\n",
        "columnas_a_eliminar = ['CAPITAL', 'Unnamed: 2','CUPRUM', 'Unnamed: 4', 'Unnamed: 6','MODELO', 'PLANVITAL', 'Unnamed: 8', 'PROVIDA', 'Unnamed: 10','Unnamed: 12', 'Unnamed: 13', 'Unnamed: 14']\n",
        "df_2016 = df_2016.drop(columnas_a_eliminar, axis = 1)\n",
        "columnas = ['Fecha', 'Cuota']\n",
        "df_2016.columns = columnas\n",
        "df_2016 = df_2016.drop(0)\n",
        "print(df_2016)"
      ]
    },
    {
      "cell_type": "markdown",
      "metadata": {
        "id": "gYFeDjWZW1f2"
      },
      "source": [
        "##Valores de cuotas para el año 2017"
      ]
    },
    {
      "cell_type": "code",
      "execution_count": null,
      "metadata": {
        "colab": {
          "base_uri": "https://localhost:8080/"
        },
        "id": "GHbKZeDlW6_z",
        "outputId": "15ff4cb0-62bf-4b0a-b0e5-5dacc70b178f"
      },
      "outputs": [
        {
          "name": "stdout",
          "output_type": "stream",
          "text": [
            "          Fecha      Cuota\n",
            "1    01-01-2017  38.043,31\n",
            "2    02-01-2017  38.043,31\n",
            "3    03-01-2017  38.218,64\n",
            "4    04-01-2017  38.473,57\n",
            "5    05-01-2017  38.582,46\n",
            "..          ...        ...\n",
            "361  27-12-2017  44.787,20\n",
            "362  28-12-2017  44.675,13\n",
            "363  29-12-2017  44.790,45\n",
            "364  30-12-2017  44.790,45\n",
            "365  31-12-2017  44.790,45\n",
            "\n",
            "[365 rows x 2 columns]\n"
          ]
        }
      ],
      "source": [
        "start_row = 5365\n",
        "end_row = 5731\n",
        "num_rows = end_row - start_row\n",
        "\n",
        "df_2017 = pd.read_csv('vcfA2002-2024.csv', sep = \";\",  decimal = \",\", skiprows=start_row - 1, nrows=num_rows)\n",
        "columnas_a_eliminar = ['CAPITAL', 'Unnamed: 2','CUPRUM', 'Unnamed: 4', 'Unnamed: 6','MODELO', 'PLANVITAL', 'Unnamed: 8', 'PROVIDA', 'Unnamed: 10','Unnamed: 12', 'Unnamed: 13', 'Unnamed: 14']\n",
        "df_2017 = df_2017.drop(columnas_a_eliminar, axis = 1)\n",
        "columnas = ['Fecha', 'Cuota']\n",
        "df_2017.columns = columnas\n",
        "df_2017 = df_2017.drop(0)\n",
        "print(df_2017)"
      ]
    },
    {
      "cell_type": "markdown",
      "metadata": {
        "id": "5hDjFaq7XrM6"
      },
      "source": [
        "##Valores de cuotas para el año 2018"
      ]
    },
    {
      "cell_type": "code",
      "execution_count": null,
      "metadata": {
        "colab": {
          "base_uri": "https://localhost:8080/"
        },
        "id": "P0SP0185Xtn1",
        "outputId": "2a61bce0-af6f-43b7-98af-4b7899194885"
      },
      "outputs": [
        {
          "name": "stdout",
          "output_type": "stream",
          "text": [
            "          Fecha      Cuota\n",
            "1    01-01-2018  44.790,45\n",
            "2    02-01-2018  44.839,67\n",
            "3    03-01-2018  44.850,09\n",
            "4    04-01-2018  44.838,63\n",
            "5    05-01-2018  45.085,63\n",
            "..          ...        ...\n",
            "361  27-12-2018  43.016,91\n",
            "362  28-12-2018  43.252,36\n",
            "363  29-12-2018  43.252,36\n",
            "364  30-12-2018  43.252,36\n",
            "365  31-12-2018  43.503,13\n",
            "\n",
            "[365 rows x 2 columns]\n"
          ]
        }
      ],
      "source": [
        "start_row = 5735\n",
        "end_row = 6101\n",
        "num_rows = end_row - start_row\n",
        "\n",
        "df_2018 = pd.read_csv('vcfA2002-2024.csv', sep = \";\",  decimal = \",\", skiprows=start_row - 1, nrows=num_rows)\n",
        "columnas_a_eliminar = ['CAPITAL', 'Unnamed: 2','CUPRUM', 'Unnamed: 4', 'Unnamed: 6','MODELO', 'PLANVITAL', 'Unnamed: 8', 'PROVIDA', 'Unnamed: 10','Unnamed: 12', 'Unnamed: 13', 'Unnamed: 14']\n",
        "df_2018 = df_2018.drop(columnas_a_eliminar, axis = 1)\n",
        "columnas = ['Fecha', 'Cuota']\n",
        "df_2018.columns = columnas\n",
        "df_2018 = df_2018.drop(0)\n",
        "print(df_2018)"
      ]
    },
    {
      "cell_type": "markdown",
      "metadata": {
        "id": "55wjryeBYCax"
      },
      "source": [
        "##Valores de cuotas para el año 2019"
      ]
    },
    {
      "cell_type": "code",
      "execution_count": null,
      "metadata": {
        "colab": {
          "base_uri": "https://localhost:8080/"
        },
        "id": "wV2RSXsNYFDB",
        "outputId": "b1b90eb4-b775-4f1b-a19f-ce4a8ebaf25c"
      },
      "outputs": [
        {
          "name": "stdout",
          "output_type": "stream",
          "text": [
            "         Fecha      Cuota\n",
            "1   01-01-2019  43.503,13\n",
            "2   02-01-2019  43.585,14\n",
            "3   03-01-2019  43.654,15\n",
            "4   04-01-2019  43.519,33\n",
            "5   05-01-2019  43.519,33\n",
            "..         ...        ...\n",
            "88  27-12-2019  52.115,17\n",
            "89  28-12-2019  52.115,17\n",
            "90  29-12-2019  52.115,17\n",
            "91  30-12-2019  52.171,78\n",
            "92  31-12-2019  52.141,66\n",
            "\n",
            "[365 rows x 2 columns]\n"
          ]
        }
      ],
      "source": [
        "#Parte 1 año 2019\n",
        "\n",
        "start_row = 6105\n",
        "end_row = 6379\n",
        "num_rows = end_row - start_row\n",
        "\n",
        "df_2019_1 = pd.read_csv('vcfA2002-2024.csv', sep = \";\",  decimal = \",\", skiprows=start_row - 1, nrows=num_rows)\n",
        "columnas_a_eliminar = ['CAPITAL', 'Unnamed: 2','CUPRUM', 'Unnamed: 4', 'Unnamed: 6','MODELO', 'PLANVITAL', 'Unnamed: 8', 'PROVIDA', 'Unnamed: 10','Unnamed: 12', 'Unnamed: 13', 'Unnamed: 14']\n",
        "df_2019_1 = df_2019_1.drop(columnas_a_eliminar, axis = 1)\n",
        "columnas = ['Fecha', 'Cuota']\n",
        "df_2019_1.columns = columnas\n",
        "df_2019_1 = df_2019_1.drop(0)\n",
        "\n",
        "#Parte 2 año 2019\n",
        "\n",
        "start_row = 6383\n",
        "end_row = 6476\n",
        "num_rows = end_row - start_row\n",
        "\n",
        "df_2019_2 = pd.read_csv('vcfA2002-2024.csv', sep = \";\",  decimal = \",\", skiprows=start_row - 1, nrows=num_rows)\n",
        "columnas_a_eliminar = ['CAPITAL', 'Unnamed: 2','CUPRUM', 'Unnamed: 4', 'Unnamed: 6','MODELO', 'PLANVITAL', 'Unnamed: 8', 'PROVIDA', 'Unnamed: 10','Unnamed: 12', 'UNO', 'Unnamed: 14']\n",
        "df_2019_2 = df_2019_2.drop(columnas_a_eliminar, axis = 1)\n",
        "columnas = ['Fecha', 'Cuota']\n",
        "df_2019_2.columns = columnas\n",
        "df_2019_2 = df_2019_2.drop(0)\n",
        "df_2019 = pd.concat([df_2019_1, df_2019_2], axis = 0)\n",
        "print(df_2019)                         #Es necesario resetear el índice luego de usar concat\n"
      ]
    },
    {
      "cell_type": "markdown",
      "metadata": {
        "id": "QiNujvNTakef"
      },
      "source": [
        "##Valores de cuotas para el año 2020"
      ]
    },
    {
      "cell_type": "code",
      "execution_count": null,
      "metadata": {
        "colab": {
          "base_uri": "https://localhost:8080/"
        },
        "id": "aXm7s7gZaoQ8",
        "outputId": "46d18aa6-b5ff-4e43-9487-9d80e3f870b6"
      },
      "outputs": [
        {
          "name": "stdout",
          "output_type": "stream",
          "text": [
            "          Fecha      Cuota\n",
            "1    01-01-2020  52.141,66\n",
            "2    02-01-2020  52.349,68\n",
            "3    03-01-2020  53.190,38\n",
            "4    04-01-2020  53.190,38\n",
            "5    05-01-2020  53.190,38\n",
            "..          ...        ...\n",
            "362  27-12-2020  54.039,15\n",
            "363  28-12-2020  53.730,64\n",
            "364  29-12-2020  53.951,95\n",
            "365  30-12-2020  54.260,43\n",
            "366  31-12-2020  54.549,80\n",
            "\n",
            "[366 rows x 2 columns]\n"
          ]
        }
      ],
      "source": [
        "start_row = 6480\n",
        "end_row = 6847\n",
        "num_rows = end_row - start_row\n",
        "\n",
        "df_2020 = pd.read_csv('vcfA2002-2024.csv', sep = \";\",  decimal = \",\", skiprows=start_row - 1, nrows=num_rows)\n",
        "columnas_a_eliminar = ['CAPITAL', 'Unnamed: 2','CUPRUM', 'Unnamed: 4', 'Unnamed: 6','MODELO', 'PLANVITAL', 'Unnamed: 8', 'PROVIDA', 'Unnamed: 10','Unnamed: 12', 'UNO', 'Unnamed: 14']\n",
        "df_2020 = df_2020.drop(columnas_a_eliminar, axis = 1)\n",
        "columnas = ['Fecha', 'Cuota']\n",
        "df_2020.columns = columnas\n",
        "df_2020 = df_2020.drop(0)\n",
        "print(df_2020)"
      ]
    },
    {
      "cell_type": "markdown",
      "metadata": {
        "id": "8jvicpScbB_U"
      },
      "source": [
        "##Valores de cuotas para el año 2021"
      ]
    },
    {
      "cell_type": "code",
      "execution_count": null,
      "metadata": {
        "colab": {
          "base_uri": "https://localhost:8080/"
        },
        "id": "PedUPstIbEcV",
        "outputId": "de30de62-42bc-4aee-a6ab-f5ba30b7f5e9"
      },
      "outputs": [
        {
          "name": "stdout",
          "output_type": "stream",
          "text": [
            "          Fecha      Cuota\n",
            "1    01-01-2021  54.549,80\n",
            "2    02-01-2021  54.549,80\n",
            "3    03-01-2021  54.549,80\n",
            "4    04-01-2021  54.739,13\n",
            "5    05-01-2021  54.572,20\n",
            "..          ...        ...\n",
            "361  27-12-2021  66.073,68\n",
            "362  28-12-2021  66.074,83\n",
            "363  29-12-2021  66.039,98\n",
            "364  30-12-2021  65.588,76\n",
            "365  31-12-2021  65.673,90\n",
            "\n",
            "[365 rows x 2 columns]\n"
          ]
        }
      ],
      "source": [
        "start_row = 6851\n",
        "end_row = 7217\n",
        "num_rows = end_row - start_row\n",
        "\n",
        "df_2021 = pd.read_csv('vcfA2002-2024.csv', sep = \";\",  decimal = \",\", skiprows=start_row - 1, nrows=num_rows)\n",
        "columnas_a_eliminar = ['CAPITAL', 'Unnamed: 2','CUPRUM', 'Unnamed: 4', 'Unnamed: 6','MODELO', 'PLANVITAL', 'Unnamed: 8', 'PROVIDA', 'Unnamed: 10','Unnamed: 12', 'UNO', 'Unnamed: 14']\n",
        "df_2021 = df_2021.drop(columnas_a_eliminar, axis = 1)\n",
        "columnas = ['Fecha', 'Cuota']\n",
        "df_2021.columns = columnas\n",
        "df_2021 = df_2021.drop(0)\n",
        "print(df_2021)"
      ]
    },
    {
      "cell_type": "markdown",
      "metadata": {
        "id": "DHkLZrhqbWCc"
      },
      "source": [
        "##Valores de cuotas para el año 2022"
      ]
    },
    {
      "cell_type": "code",
      "execution_count": null,
      "metadata": {
        "colab": {
          "base_uri": "https://localhost:8080/"
        },
        "id": "LtdNQZhIbYcr",
        "outputId": "45a23e4f-670f-468d-b281-6a6b2d6e235b"
      },
      "outputs": [
        {
          "name": "stdout",
          "output_type": "stream",
          "text": [
            "          Fecha      Cuota\n",
            "1    01-01-2022  65.673,90\n",
            "2    02-01-2022  65.673,90\n",
            "3    03-01-2022  65.460,01\n",
            "4    04-01-2022  65.948,43\n",
            "5    05-01-2022  65.954,70\n",
            "..          ...        ...\n",
            "361  27-12-2022  59.763,81\n",
            "362  28-12-2022  59.560,70\n",
            "363  29-12-2022  58.444,35\n",
            "364  30-12-2022  58.888,59\n",
            "365  31-12-2022  58.888,59\n",
            "\n",
            "[365 rows x 2 columns]\n"
          ]
        }
      ],
      "source": [
        "start_row = 7221\n",
        "end_row = 7587\n",
        "num_rows = end_row - start_row\n",
        "\n",
        "df_2022 = pd.read_csv('vcfA2002-2024.csv', sep = \";\",  decimal = \",\", skiprows=start_row - 1, nrows=num_rows)\n",
        "columnas_a_eliminar = ['CAPITAL', 'Unnamed: 2','CUPRUM', 'Unnamed: 4', 'Unnamed: 6','MODELO', 'PLANVITAL', 'Unnamed: 8', 'PROVIDA', 'Unnamed: 10','Unnamed: 12', 'UNO', 'Unnamed: 14']\n",
        "df_2022 = df_2022.drop(columnas_a_eliminar, axis = 1)\n",
        "columnas = ['Fecha', 'Cuota']\n",
        "df_2022.columns = columnas\n",
        "df_2022 = df_2022.drop(0)\n",
        "print(df_2022)"
      ]
    },
    {
      "cell_type": "markdown",
      "metadata": {
        "id": "t7RgfpJ7bm2O"
      },
      "source": [
        "##Valores de cuotas para el año 2023"
      ]
    },
    {
      "cell_type": "code",
      "execution_count": null,
      "metadata": {
        "colab": {
          "base_uri": "https://localhost:8080/"
        },
        "id": "og0PIekDbo9o",
        "outputId": "4c1984d0-97c9-4c7f-eba0-f9b9a847859a"
      },
      "outputs": [
        {
          "name": "stdout",
          "output_type": "stream",
          "text": [
            "          Fecha      Cuota\n",
            "1    01-01-2023  58.888,59\n",
            "2    02-01-2023  58.888,59\n",
            "3    03-01-2023  58.655,36\n",
            "4    04-01-2023  58.383,78\n",
            "5    05-01-2023  58.816,99\n",
            "..          ...        ...\n",
            "361  27-12-2023  66.286,30\n",
            "362  28-12-2023  66.042,93\n",
            "363  29-12-2023  66.254,19\n",
            "364  30-12-2023  66.254,19\n",
            "365  31-12-2023  66.254,19\n",
            "\n",
            "[365 rows x 2 columns]\n"
          ]
        }
      ],
      "source": [
        "start_row = 7591\n",
        "end_row = 7957\n",
        "num_rows = end_row - start_row\n",
        "\n",
        "df_2023 = pd.read_csv('vcfA2002-2024.csv', sep = \";\",  decimal = \",\", skiprows=start_row - 1, nrows=num_rows)\n",
        "columnas_a_eliminar = ['CAPITAL', 'Unnamed: 2','CUPRUM', 'Unnamed: 4', 'Unnamed: 6','MODELO', 'PLANVITAL', 'Unnamed: 8', 'PROVIDA', 'Unnamed: 10','Unnamed: 12', 'UNO', 'Unnamed: 14']\n",
        "df_2023 = df_2023.drop(columnas_a_eliminar, axis = 1)\n",
        "columnas = ['Fecha', 'Cuota']\n",
        "df_2023.columns = columnas\n",
        "df_2023 = df_2023.drop(0)\n",
        "print(df_2023)"
      ]
    },
    {
      "cell_type": "markdown",
      "metadata": {
        "id": "eHmbL5J4b7TU"
      },
      "source": [
        "##Valores de cuota del año 2024 hasta el mes de febrero"
      ]
    },
    {
      "cell_type": "code",
      "execution_count": null,
      "metadata": {
        "id": "yMGZBCWvcJqh"
      },
      "outputs": [],
      "source": [
        "start_row = 7961\n",
        "end_row = 8022\n",
        "num_rows = end_row - start_row\n",
        "\n",
        "df_2024 = pd.read_csv('vcfA2002-2024.csv', sep = \";\",  decimal = \",\", skiprows=start_row - 1, nrows=num_rows)\n",
        "columnas_a_eliminar = ['CAPITAL', 'Unnamed: 2','CUPRUM', 'Unnamed: 4', 'Unnamed: 6','MODELO', 'PLANVITAL', 'Unnamed: 8', 'PROVIDA', 'Unnamed: 10','Unnamed: 12', 'UNO', 'Unnamed: 14']\n",
        "df_2024 = df_2024.drop(columnas_a_eliminar, axis = 1)\n",
        "columnas = ['Fecha', 'Cuota']\n",
        "df_2024.columns = columnas\n",
        "df_2024 = df_2024.drop(0)\n",
        "# print(df_2024)"
      ]
    },
    {
      "cell_type": "markdown",
      "metadata": {
        "id": "BfsXVJQRcbWF"
      },
      "source": [
        "##Concatenación de la información"
      ]
    },
    {
      "cell_type": "code",
      "execution_count": null,
      "metadata": {
        "colab": {
          "base_uri": "https://localhost:8080/"
        },
        "id": "rJRQ1lcCcgrg",
        "outputId": "6b7810e7-84ab-4af0-9dcb-0f1ac009e929"
      },
      "outputs": [
        {
          "name": "stdout",
          "output_type": "stream",
          "text": [
            "           Fecha      Cuota\n",
            "0     01-08-2002  10.000,00\n",
            "1     02-08-2002  10.000,00\n",
            "2     03-08-2002  10.000,00\n",
            "3     04-08-2002  10.000,00\n",
            "4     05-08-2002  10.000,00\n",
            "...          ...        ...\n",
            "7878  25-02-2024  71.406,05\n",
            "7879  26-02-2024  72.062,95\n",
            "7880  27-02-2024  72.101,07\n",
            "7881  28-02-2024  72.251,97\n",
            "7882  29-02-2024  71.796,98\n",
            "\n",
            "[7883 rows x 2 columns]\n"
          ]
        }
      ],
      "source": [
        "valor_cuota1 = pd.concat([df_2002, df_2003, df_2004, df_2005, df_2006, df_2007, df_2008, df_2009, df_2010, df_2011, df_2012, df_2013], axis = 0)\n",
        "valor_cuota2 = pd.concat([df_2014, df_2015, df_2016, df_2017, df_2018, df_2019, df_2020, df_2021, df_2022, df_2023, df_2024], axis = 0)\n",
        "valor_cuota = pd.concat([valor_cuota1, valor_cuota2], axis = 0)\n",
        "valor_cuota = valor_cuota.reset_index()                   #Reinica el índice\n",
        "valor_cuota = valor_cuota.drop(['index'], axis = 1)       #Elimina el antiguo índice\n",
        "print(valor_cuota)"
      ]
    }
  ],
  "metadata": {
    "colab": {
      "provenance": []
    },
    "kernelspec": {
      "display_name": "Python 3",
      "name": "python3"
    },
    "language_info": {
      "codemirror_mode": {
        "name": "ipython",
        "version": 3
      },
      "file_extension": ".py",
      "mimetype": "text/x-python",
      "name": "python",
      "nbconvert_exporter": "python",
      "pygments_lexer": "ipython3",
      "version": "3.11.5"
    }
  },
  "nbformat": 4,
  "nbformat_minor": 0
}